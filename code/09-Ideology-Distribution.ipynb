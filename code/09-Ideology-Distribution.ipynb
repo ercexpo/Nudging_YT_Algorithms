{
 "cells": [
  {
   "cell_type": "code",
   "execution_count": null,
   "id": "683e388a",
   "metadata": {},
   "outputs": [],
   "source": [
    "import pandas as pd\n",
    "import matplotlib.pyplot as plt\n",
    "import matplotlib.patches as mpatches\n",
    "import re\n",
    "import numpy as np\n",
    "import json\n",
    "import scienceplots\n",
    "from scipy.stats import ks_2samp"
   ]
  },
  {
   "cell_type": "code",
   "execution_count": null,
   "id": "dbb31845",
   "metadata": {},
   "outputs": [],
   "source": [
    "tex_fonts = {\n",
    "    \"text.usetex\": True,\n",
    "     \"axes.labelsize\": 12,\n",
    "     \"font.size\": 12,\n",
    "     \"legend.fontsize\": 6,\n",
    "    \"xtick.labelsize\": 6,\n",
    "    \"ytick.labelsize\": 6\n",
    "}\n",
    "\n",
    "plt.style.use(['science', 'nature'])\n",
    "plt.rcParams.update(tex_fonts)"
   ]
  },
  {
   "cell_type": "code",
   "execution_count": null,
   "id": "b9e6c945",
   "metadata": {},
   "outputs": [],
   "source": [
    "ideo = pd.read_csv('data/video_ideology_scores.csv')\n",
    "ideology_scores = {row.video_id: row.score for row in ideo.itertuples()}"
   ]
  },
  {
   "cell_type": "code",
   "execution_count": null,
   "id": "1262da30",
   "metadata": {},
   "outputs": [],
   "source": [
    "survey = pd.read_spss('data/AMST0001_OUTPUT_w1andw2.sav')"
   ]
  },
  {
   "cell_type": "code",
   "execution_count": null,
   "id": "3327bbdf",
   "metadata": {},
   "outputs": [],
   "source": [
    "visa_ids = set(pd.read_csv('data/visas.csv')['visaId'])"
   ]
  },
  {
   "cell_type": "code",
   "execution_count": null,
   "id": "bb143c8c-80e9-47d3-862c-340ef43c1b4e",
   "metadata": {},
   "outputs": [],
   "source": [
    "def jsonify(js):\n",
    "    if js is None:\n",
    "        return None\n",
    "    return json.loads(js)"
   ]
  },
  {
   "cell_type": "code",
   "execution_count": null,
   "id": "0d3ab295",
   "metadata": {},
   "outputs": [],
   "source": [
    "full_log = pd.read_parquet('data/logs.parquet')\n",
    "full_log = full_log[full_log['visaId'].isin(visa_ids)]\n",
    "full_log = full_log[full_log['intervention'] == 'background']\n",
    "full_log['homepage_content'] = full_log['homepage_content'].map(jsonify)\n",
    "full_log['upnext_content'] = full_log['upnext_content'].map(jsonify)"
   ]
  },
  {
   "cell_type": "code",
   "execution_count": null,
   "id": "cbde4c66",
   "metadata": {},
   "outputs": [],
   "source": [
    "def extract_video_id(url):\n",
    "    try:\n",
    "        vId = re.search(r'v=(.{11})', url).group(1)\n",
    "        if vId is not None and vId != '' and len(vId) == 11:\n",
    "            return vId\n",
    "    except:\n",
    "        pass\n",
    "    return None\n",
    "\n",
    "def extract_video_ids(urls):\n",
    "    videoIds = set()\n",
    "    for url in urls:\n",
    "        vId = extract_video_id(url)\n",
    "        if vId is not None:\n",
    "            videoIds.add(vId)            \n",
    "    return videoIds\n",
    "    \n",
    "def get_watched_videos(logs):\n",
    "    urls = set()\n",
    "    logs = logs[~logs['is_injected']]\n",
    "    for url in logs['url']:\n",
    "        urls.add(url)\n",
    "    return extract_video_ids(urls)\n",
    "\n",
    "def get_homepage_videos(logs):\n",
    "    urls = set()\n",
    "    for hp in logs['homepage_content'].dropna():\n",
    "        for url in hp:\n",
    "            urls.add(url)\n",
    "    return extract_video_ids(urls)\n",
    "\n",
    "def get_upnext_videos(logs):\n",
    "    urls = set()\n",
    "    for hp in logs['upnext_content'].dropna():\n",
    "        for url in hp:\n",
    "            urls.add(url)\n",
    "    return extract_video_ids(urls)"
   ]
  },
  {
   "cell_type": "code",
   "execution_count": null,
   "id": "3f83eb58",
   "metadata": {},
   "outputs": [],
   "source": [
    "def get_scores(videoIds):\n",
    "    return list(filter(lambda x: x is not None, [ideology_scores.get(vId, None) for vId in videoIds]))"
   ]
  },
  {
   "cell_type": "code",
   "execution_count": null,
   "id": "3d8f851f",
   "metadata": {},
   "outputs": [],
   "source": [
    "def map_ideology(p):\n",
    "    if p == 'Not sure':\n",
    "        return 'Moderate'\n",
    "    return p"
   ]
  },
  {
   "cell_type": "code",
   "execution_count": null,
   "id": "da898ba1",
   "metadata": {},
   "outputs": [],
   "source": [
    "survey['ideo5_mapped'] = survey['ideo5'].map(map_ideology)"
   ]
  },
  {
   "cell_type": "code",
   "execution_count": null,
   "id": "c0e211dd",
   "metadata": {},
   "outputs": [],
   "source": [
    "ideologies = ['Very liberal', 'Liberal', 'Moderate', 'Conservative', 'Very conservative']\n",
    "caption = 'abcdefghijklmno'\n",
    "colors = plt.rcParams['axes.prop_cycle'].by_key()['color']"
   ]
  },
  {
   "cell_type": "code",
   "execution_count": null,
   "id": "c15b3e95",
   "metadata": {},
   "outputs": [],
   "source": [
    "def make_ideology_plot(ideo, ax, cap):\n",
    "\n",
    "    visaIds = survey[survey['ideo5'] == ideo]['session_visa']\n",
    "    partial_log = full_log[full_log['visaId'].isin(visaIds)]\n",
    "\n",
    "    dataset1 = []\n",
    "    dataset2 = []\n",
    "    \n",
    "    for stage in ['PRE', 'MID', 'POST'][::-1]:\n",
    "        relevant_logs = partial_log[partial_log['intervention_stage'] == stage]\n",
    "        relevant_logs = relevant_logs[relevant_logs['intervention'] == 'background']\n",
    "        dataset1.append(get_scores(get_watched_videos(relevant_logs)))\n",
    "        dataset2.append(get_scores(get_homepage_videos(relevant_logs)))\n",
    "\n",
    "    wp1 = ax.violinplot(dataset1, [0, 2, 4], vert=False, showmeans=True, showmedians=False, showextrema=True)\n",
    "    wp2 = ax.violinplot(dataset2, [1, 3, 5], vert=False, showmeans=True, showmedians=False, showextrema=True)\n",
    "\n",
    "    for pc1, pc2 in zip(wp1['bodies'], wp2['bodies']):\n",
    "        pc1.set_alpha(0.3)\n",
    "        pc2.set_alpha(0.3)        \n",
    "        pc1.set_facecolor(colors[0])\n",
    "        pc2.set_facecolor(colors[1])\n",
    "        pc1.set_edgecolor('none')\n",
    "        pc2.set_edgecolor('none')\n",
    "\n",
    "    for y, data in zip([0, 2, 4], dataset1):\n",
    "        mean = np.mean(data)\n",
    "        ax.annotate('%.2f' % mean, (mean, y + 0.2), color=colors[0], fontsize=6)\n",
    "    for y, data in zip([1, 3, 5], dataset2):\n",
    "        mean = np.mean(data)\n",
    "        ax.annotate('%.2f' % mean, (mean, y + 0.2), color=colors[1], fontsize=6)\n",
    "\n",
    "    ax.plot([-2.5, 2.5], [1.5, 1.5], ls='dashed', lw=0.5, color='black')\n",
    "    ax.plot([-2.5, 2.5], [3.5, 3.5], ls='dashed', lw=0.5, color='black')\n",
    "    \n",
    "    ax.set_yticks([0.5, 2.5, 4.5])\n",
    "    ax.set_yticklabels(['Pre', 'Mid', 'Post'][::-1], fontsize=6)\n",
    "\n",
    "    ax.set_xlim((-2.1, 2.1))\n",
    "    ax.annotate(cap.upper(), (-0.125, 1.05), annotation_clip=False, fontsize=9, xycoords='axes fraction')\n",
    "    \n",
    "    return ax"
   ]
  },
  {
   "cell_type": "code",
   "execution_count": null,
   "id": "8be38083",
   "metadata": {},
   "outputs": [],
   "source": [
    "import matplotlib.gridspec as gridspec"
   ]
  },
  {
   "cell_type": "code",
   "execution_count": null,
   "id": "8f7096ee",
   "metadata": {},
   "outputs": [],
   "source": [
    "#fig, axes = plt.subplots(figsize=(6, 4), dpi=300)\n",
    "fig = plt.figure(figsize=(figw*1.75, figh*1.5), dpi=300)\n",
    "gs = fig.add_gridspec(2, 6)\n",
    "\n",
    "axes = [\n",
    "    plt.subplot(gs[0, 0:2]),\n",
    "    plt.subplot(gs[0, 2:4]),\n",
    "    plt.subplot(gs[0, 4:6]),\n",
    "    plt.subplot(gs[1, 1:3]),\n",
    "    plt.subplot(gs[1, 3:5]),\n",
    "]\n",
    "\n",
    "for ideo, ax, cap in zip(ideologies, axes, 'abcdef'):\n",
    "    make_ideology_plot(ideo, ax, cap)\n",
    "\n",
    "fig.legend(\n",
    "    [mpatches.Patch(color=colors[0], alpha=0.3, ec='none'), mpatches.Patch(color=colors[1], alpha=0.3, ec='none')][::-1], \n",
    "    ['Watched', 'Recommended'][::-1], \n",
    "    loc='lower center', fontsize=5, ncols=2\n",
    ")\n",
    "    \n",
    "fig.tight_layout()\n",
    "outfile = 'figures/ideology-distribution.pdf'\n",
    "fig.savefig(outfile, transparent = True, bbox_inches = 'tight', pad_inches = 0.1, dpi=300)"
   ]
  },
  {
   "cell_type": "code",
   "execution_count": null,
   "id": "6825385f",
   "metadata": {},
   "outputs": [],
   "source": [
    "def kstest(a, b, p_=0.05):\n",
    "    s, p = ks_2samp(a, b)\n",
    "    if p < p_:\n",
    "        return '%.3f*' % s\n",
    "    return '%.3f' % s"
   ]
  },
  {
   "cell_type": "code",
   "execution_count": null,
   "id": "91402757",
   "metadata": {},
   "outputs": [],
   "source": [
    "def compute_significance_pre_mid_post(ideo):\n",
    "\n",
    "    visaIds = survey[survey['ideo5'] == ideo]['session_visa']\n",
    "    partial_log = full_log[full_log['visaId'].isin(visaIds)]\n",
    "\n",
    "    test_results = {i: {} for i in ['PRE', 'MID', 'POST']}\n",
    "    \n",
    "    for stage1 in ['PRE', 'MID', 'POST'][::-1]:\n",
    "        for stage2 in ['PRE', 'MID', 'POST']:\n",
    "            \n",
    "            relevant_logs_1 = partial_log[partial_log['intervention_stage'] == stage1]\n",
    "            relevant_logs_1 = relevant_logs_1[relevant_logs_1['intervention'] == 'background']\n",
    "\n",
    "            relevant_logs_2 = partial_log[partial_log['intervention_stage'] == stage2]\n",
    "            relevant_logs_2 = relevant_logs_2[relevant_logs_2['intervention'] == 'background']\n",
    "\n",
    "            dataset1w = get_scores(get_watched_videos(relevant_logs_1))\n",
    "            dataset1r = get_scores(get_homepage_videos(relevant_logs_1))\n",
    "\n",
    "            dataset2w = get_scores(get_watched_videos(relevant_logs_2))\n",
    "            dataset2r = get_scores(get_homepage_videos(relevant_logs_2))\n",
    "                        \n",
    "            test_results[stage1][stage2] = kstest(dataset1w, dataset2w), kstest(dataset1r, dataset2r)\n",
    "            \n",
    "    return test_results"
   ]
  },
  {
   "cell_type": "code",
   "execution_count": null,
   "id": "bf45cbe9",
   "metadata": {},
   "outputs": [],
   "source": [
    "for ideology in ideologies:\n",
    "    test_results = compute_significance_pre_mid_post(ideology)\n",
    "    for i in ['PRE', 'MID', 'POST']:\n",
    "        if i == 'PRE':\n",
    "            print('\\\\hline \\\\multirow{6}{*}{%s} ' % ideology, end='')\n",
    "        print('& \\\\multirow{2}{*}{%s} & %s & %s & %s & %s \\\\\\\\\\n\\\\cline{3-6}' % (i.capitalize(), 'Watched', test_results[i]['PRE'][0], test_results[i]['MID'][0], test_results[i]['POST'][0]))\n",
    "        print('& & %s & %s & %s & %s \\\\\\\\\\n\\\\cline{2-6}' % ('Recommended', test_results[i]['PRE'][1], test_results[i]['MID'][1], test_results[i]['POST'][1]))"
   ]
  },
  {
   "cell_type": "code",
   "execution_count": null,
   "id": "1c12b628",
   "metadata": {},
   "outputs": [],
   "source": [
    "def compute_significance_watched_recommended(ideo):\n",
    "\n",
    "    visaIds = survey[survey['ideo5'] == ideo]['session_visa']\n",
    "    partial_log = full_log[full_log['visaId'].isin(visaIds)]\n",
    "\n",
    "    test_results = {}\n",
    "    \n",
    "    for stage1 in ['PRE', 'MID', 'POST'][::-1]:\n",
    "\n",
    "        relevant_logs = partial_log[partial_log['intervention_stage'] == stage1]\n",
    "        relevant_logs = relevant_logs[relevant_logs['intervention'] == 'background']\n",
    "\n",
    "        dataset1w = get_scores(get_watched_videos(relevant_logs))\n",
    "        dataset1r = get_scores(get_homepage_videos(relevant_logs))\n",
    "\n",
    "        test_results[stage1] = len(dataset1w), len(dataset1r) #kstest(dataset1w, dataset1r)\n",
    "        \n",
    "    return test_results"
   ]
  },
  {
   "cell_type": "code",
   "execution_count": null,
   "id": "f5a2ac9a",
   "metadata": {},
   "outputs": [],
   "source": [
    "for ideology in ideologies:\n",
    "    test_results = compute_significance_watched_recommended(ideology)\n",
    "    print('%s & %s & %s & %s \\\\\\\\\\n\\hline' % (ideology, test_results['PRE'] , test_results['MID'], test_results['POST']))"
   ]
  },
  {
   "cell_type": "code",
   "execution_count": null,
   "id": "52ed55f3",
   "metadata": {},
   "outputs": [],
   "source": []
  }
 ],
 "metadata": {
  "kernelspec": {
   "display_name": "Python 3 (ipykernel)",
   "language": "python",
   "name": "python3"
  },
  "language_info": {
   "codemirror_mode": {
    "name": "ipython",
    "version": 3
   },
   "file_extension": ".py",
   "mimetype": "text/x-python",
   "name": "python",
   "nbconvert_exporter": "python",
   "pygments_lexer": "ipython3",
   "version": "3.12.5"
  }
 },
 "nbformat": 4,
 "nbformat_minor": 5
}
