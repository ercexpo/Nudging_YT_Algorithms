{
 "cells": [
  {
   "cell_type": "code",
   "execution_count": 1,
   "id": "178a6e9f",
   "metadata": {},
   "outputs": [],
   "source": [
    "import pandas as pd\n",
    "import political_classifier\n",
    "import json\n",
    "import pickle\n",
    "import os\n",
    "import numpy as np\n",
    "from util import get_engine, fetch_metadata_using_api\n",
    "from datetime import datetime\n",
    "from random import sample, random\n",
    "from tqdm.auto import tqdm\n",
    "import requests\n",
    "from collections import Counter\n",
    "\n",
    "os.environ['MKL_THREADING_LAYER'] = 'GNU'"
   ]
  },
  {
   "cell_type": "code",
   "execution_count": 2,
   "id": "cf9df9b1",
   "metadata": {},
   "outputs": [
    {
     "name": "stdout",
     "output_type": "stream",
     "text": [
      "processed puppets: 23579\n",
      "collected puppets: 23579\n"
     ]
    }
   ],
   "source": [
    "PUPPET_DIR = './puppets-old'\n",
    "with open('processed-puppets.txt') as f:\n",
    "    PUPPET_LIST = f.read().strip().split('\\n')\n",
    "    PUPPET_LIST = [p for p in PUPPET_LIST if os.path.exists(os.path.join(PUPPET_DIR, p))]\n",
    "print('processed puppets: %s' % len(PUPPET_LIST))\n",
    "print('collected puppets: %s' % len(os.listdir(PUPPET_DIR)))"
   ]
  },
  {
   "cell_type": "code",
   "execution_count": 3,
   "id": "d11928e2",
   "metadata": {},
   "outputs": [],
   "source": [
    "with open('cache/metadata.pickle', 'rb') as f:\n",
    "    metadata = pickle.load(f)"
   ]
  },
  {
   "cell_type": "code",
   "execution_count": 4,
   "id": "9d4ff988",
   "metadata": {},
   "outputs": [],
   "source": [
    "def load_puppet(puppetId):\n",
    "    with open(os.path.join(PUPPET_DIR, puppetId)) as f:\n",
    "        return json.load(f)\n",
    "    \n",
    "def get_puppet_data(version, filter_injection_type):\n",
    "    for puppetId in PUPPET_LIST:\n",
    "        \n",
    "        if version == 3 and not puppetId.endswith('-v3'):\n",
    "            continue\n",
    "        if version == 4 and not puppetId.endswith('-v4'):\n",
    "            continue\n",
    "            \n",
    "        # load  puppet data\n",
    "        puppet = load_puppet(puppetId)\n",
    "\n",
    "        tokens = puppetId.split(',')\n",
    "        \n",
    "        if len(tokens) == 3:\n",
    "            trace_id, alpha, _id = tokens\n",
    "            alpha = alpha[:3]\n",
    "            intervention_type = 'news-random'\n",
    "        elif len(tokens) == 4:\n",
    "            trace_id, intervention_type, injection_type, injections = tokens\n",
    "            injections, _ = injections.split('-')\n",
    "           \n",
    "        # alpha or fixed\n",
    "        if injection_type != filter_injection_type:\n",
    "            continue\n",
    "            \n",
    "        yield intervention_type, injections, puppet, puppet['actions']"
   ]
  },
  {
   "cell_type": "code",
   "execution_count": 5,
   "id": "577d1074",
   "metadata": {},
   "outputs": [],
   "source": [
    "puppet_data = list(get_puppet_data(3, 'alpha')) + list(get_puppet_data(3, 'fixed')) + list(get_puppet_data(4, 'alpha')) + list(get_puppet_data(4, 'fixed')) "
   ]
  },
  {
   "cell_type": "code",
   "execution_count": 6,
   "id": "ab0c403f",
   "metadata": {},
   "outputs": [
    {
     "data": {
      "text/plain": [
       "46765"
      ]
     },
     "execution_count": 6,
     "metadata": {},
     "output_type": "execute_result"
    }
   ],
   "source": [
    "videos = set()\n",
    "for intervention_type, injections, puppet, actions in puppet_data:\n",
    "        \n",
    "    init, pre, post = [action['params'] for action in actions if action['action'] == 'get_homepage']\n",
    "    for vId in init+ pre + post:\n",
    "        videos.add(vId)\n",
    "        \n",
    "len(videos)"
   ]
  },
  {
   "cell_type": "code",
   "execution_count": 7,
   "id": "cf37cdd8",
   "metadata": {},
   "outputs": [
    {
     "name": "stdout",
     "output_type": "stream",
     "text": [
      "0\n"
     ]
    }
   ],
   "source": [
    "# load already classified videos\n",
    "classified = pd.read_pickle('cache/political-classification.pickle')\n",
    "\n",
    "to_classify = []\n",
    "\n",
    "for video_id in videos:\n",
    "    # skip already classified videos\n",
    "    if video_id in classified['video_id'].values:\n",
    "        continue\n",
    "     \n",
    "    # get video metadata\n",
    "    if video_id in metadata:\n",
    "        to_classify.append(dict(\n",
    "            text=metadata[video_id]['title'],\n",
    "            video_id=video_id\n",
    "        ))\n",
    "        \n",
    "print(len(to_classify))"
   ]
  },
  {
   "cell_type": "code",
   "execution_count": 8,
   "id": "8f2173bb",
   "metadata": {},
   "outputs": [
    {
     "name": "stderr",
     "output_type": "stream",
     "text": [
      "Traceback (most recent call last):\n",
      "  File \"/home/mharoon/Desktop/ERC/Analysis/political_classification/test_model.py\", line 24, in <module>\n",
      "    df = pd.read_csv(args.datapath)\n",
      "  File \"/home/mharoon/.miniconda3/envs/erc/lib/python3.10/site-packages/pandas/util/_decorators.py\", line 211, in wrapper\n",
      "    return func(*args, **kwargs)\n",
      "  File \"/home/mharoon/.miniconda3/envs/erc/lib/python3.10/site-packages/pandas/util/_decorators.py\", line 331, in wrapper\n",
      "    return func(*args, **kwargs)\n",
      "  File \"/home/mharoon/.miniconda3/envs/erc/lib/python3.10/site-packages/pandas/io/parsers/readers.py\", line 950, in read_csv\n",
      "    return _read(filepath_or_buffer, kwds)\n",
      "  File \"/home/mharoon/.miniconda3/envs/erc/lib/python3.10/site-packages/pandas/io/parsers/readers.py\", line 605, in _read\n",
      "    parser = TextFileReader(filepath_or_buffer, **kwds)\n",
      "  File \"/home/mharoon/.miniconda3/envs/erc/lib/python3.10/site-packages/pandas/io/parsers/readers.py\", line 1442, in __init__\n",
      "    self._engine = self._make_engine(f, self.engine)\n",
      "  File \"/home/mharoon/.miniconda3/envs/erc/lib/python3.10/site-packages/pandas/io/parsers/readers.py\", line 1753, in _make_engine\n",
      "    return mapping[engine](f, **self.options)\n",
      "  File \"/home/mharoon/.miniconda3/envs/erc/lib/python3.10/site-packages/pandas/io/parsers/c_parser_wrapper.py\", line 79, in __init__\n",
      "    self._reader = parsers.TextReader(src, **kwds)\n",
      "  File \"pandas/_libs/parsers.pyx\", line 554, in pandas._libs.parsers.TextReader.__cinit__\n",
      "pandas.errors.EmptyDataError: No columns to parse from file\n"
     ]
    }
   ],
   "source": [
    "# classify videos\n",
    "try:\n",
    "    classification = political_classifier.classifier(pd.DataFrame(to_classify))\n",
    "    classified = pd.concat([classified, classification])\n",
    "    # save to cache\n",
    "except Exception as e:\n",
    "    print(e)\n",
    "    pass"
   ]
  },
  {
   "cell_type": "code",
   "execution_count": 9,
   "id": "ad5bd59b",
   "metadata": {},
   "outputs": [],
   "source": [
    "classified.to_pickle('cache/political-classification.pickle')"
   ]
  },
  {
   "cell_type": "code",
   "execution_count": 10,
   "id": "6ec37579",
   "metadata": {},
   "outputs": [],
   "source": [
    "is_political_video = {row.video_id: row.is_political for row in classified.itertuples()}\n",
    "\n",
    "def is_political(video):\n",
    "    return video in is_political_video and is_political_video[video]"
   ]
  },
  {
   "cell_type": "code",
   "execution_count": 11,
   "id": "41af7b55",
   "metadata": {},
   "outputs": [],
   "source": [
    "news_channel_ids = pd.read_csv('data/news_channel_ids.txt')['channel'].tolist()\n",
    "\n",
    "def is_news(video):\n",
    "    return metadata.get(video, {}).get('channel_id', '') in news_channel_ids"
   ]
  },
  {
   "cell_type": "code",
   "execution_count": 12,
   "id": "0c637068",
   "metadata": {},
   "outputs": [],
   "source": [
    "CLASSIFICATIONS = ['News', 'Political non-news', 'Other']\n",
    "\n",
    "def classify_video(vId):\n",
    "    if is_news(vId):\n",
    "        return 'News'\n",
    "    if not is_news(vId) and is_political(vId):\n",
    "        return 'Political non-news'\n",
    "    if not is_news(vId) and not is_political(vId):\n",
    "        return 'Other'"
   ]
  },
  {
   "cell_type": "code",
   "execution_count": 59,
   "id": "5faff5b2",
   "metadata": {},
   "outputs": [],
   "source": [
    "ratios = {}\n",
    "\n",
    "for intervention_type, injections, puppet, actions in puppet_data:\n",
    "    \n",
    "    if intervention_type not in ratios:\n",
    "        ratios[intervention_type] = {'pre': {}, 'post': {}}\n",
    "        \n",
    "    init, pre, post = [action['params'] for action in actions if action['action'] == 'get_homepage']\n",
    "    \n",
    "    for label, arr in zip(['pre', 'post'], [pre, post]):\n",
    "        classf = [classify_video(vId) for vId in arr]\n",
    "        counts = Counter(classf)\n",
    "        total = sum(counts.values())\n",
    "\n",
    "        for clf in classf:\n",
    "            if clf not in ratios[intervention_type][label]:\n",
    "                ratios[intervention_type][label][clf] = []\n",
    "            ratios[intervention_type][label][clf].append(counts[clf] / total)"
   ]
  },
  {
   "cell_type": "code",
   "execution_count": 60,
   "id": "928906a5",
   "metadata": {},
   "outputs": [
    {
     "name": "stdout",
     "output_type": "stream",
     "text": [
      "news-random\n",
      "1.91\n",
      "1.20\n",
      "news-popular\n",
      "1.61\n",
      "1.24\n"
     ]
    }
   ],
   "source": [
    "for intervention_type in ratios:\n",
    "    print(intervention_type)\n",
    "    print('%.2f' % (np.mean(ratios[intervention_type]['post']['News']) / np.mean(ratios[intervention_type]['pre']['News'])))\n",
    "    print('%.2f' % (np.mean(ratios[intervention_type]['post']['Political non-news']) / np.mean(ratios[intervention_type]['pre']['Political non-news'])))"
   ]
  },
  {
   "cell_type": "code",
   "execution_count": 15,
   "id": "0a0a227f",
   "metadata": {},
   "outputs": [],
   "source": [
    "ratios = {}\n",
    "\n",
    "for intervention_type, injections, puppet, actions in puppet_data:\n",
    "    \n",
    "    if injections not in ratios:\n",
    "        ratios[injections] = {'pre': {}, 'post': {}}\n",
    "        \n",
    "    init, pre, post = [action['params'] for action in actions if action['action'] == 'get_homepage']\n",
    "    \n",
    "    for label, arr in zip(['pre', 'post'], [pre, post]):\n",
    "        classf = [classify_video(vId) for vId in arr]\n",
    "        counts = Counter(classf)\n",
    "        total = sum(counts.values())\n",
    "\n",
    "        for clf in classf:\n",
    "            if clf not in ratios[injections][label]:\n",
    "                ratios[injections][label][clf] = []\n",
    "            ratios[injections][label][clf].append(counts[clf] / total)"
   ]
  },
  {
   "cell_type": "code",
   "execution_count": 16,
   "id": "b2c2fe2b",
   "metadata": {},
   "outputs": [],
   "source": [
    "alpha = ['0.0', '0.1', '0.2', '0.3', '0.4', '0.5', '0.6', '0.7', '0.8', '0.9']\n",
    "fixed = ['0', '1', '3', '5', '6', '7', '8', '9', '15', '20']"
   ]
  },
  {
   "cell_type": "code",
   "execution_count": 17,
   "id": "9cc2a61f",
   "metadata": {},
   "outputs": [
    {
     "data": {
      "text/plain": [
       "(10, 10)"
      ]
     },
     "execution_count": 17,
     "metadata": {},
     "output_type": "execute_result"
    }
   ],
   "source": [
    "len(alpha), len(fixed)"
   ]
  },
  {
   "cell_type": "code",
   "execution_count": 18,
   "id": "79ba9ec0",
   "metadata": {},
   "outputs": [
    {
     "name": "stdout",
     "output_type": "stream",
     "text": [
      "0.0 & 0.1 & 0.2 & 0.3 & 0.4 & 0.5 & 0.6 & 0.7 & 0.8 & 0.9\n"
     ]
    }
   ],
   "source": [
    "print(' & '.join(alpha))"
   ]
  },
  {
   "cell_type": "code",
   "execution_count": 19,
   "id": "70b36ad2",
   "metadata": {},
   "outputs": [
    {
     "name": "stdout",
     "output_type": "stream",
     "text": [
      "$0.94\\times$ & $1.86\\times$ & $2.38\\times$ & $2.80\\times$ & $3.67\\times$ & $3.64\\times$ & $4.18\\times$ & $3.88\\times$ & $5.30\\times$ & $3.99\\times$ & "
     ]
    }
   ],
   "source": [
    "for injections in alpha:\n",
    "    print('$%.2f\\\\times$' % (np.mean(ratios[injections]['post']['News']) / np.mean(ratios[injections]['pre']['News'])), end=' & ')"
   ]
  },
  {
   "cell_type": "code",
   "execution_count": 20,
   "id": "472d36ec",
   "metadata": {},
   "outputs": [
    {
     "name": "stdout",
     "output_type": "stream",
     "text": [
      "$1.01\\times$ & $1.18\\times$ & $1.18\\times$ & $1.26\\times$ & $1.32\\times$ & $1.33\\times$ & $1.52\\times$ & $1.55\\times$ & $1.58\\times$ & $1.55\\times$ & "
     ]
    }
   ],
   "source": [
    "for injections in alpha:\n",
    "    print('$%.2f\\\\times$' % (np.mean(ratios[injections]['post']['Political non-news']) / np.mean(ratios[injections]['pre']['Political non-news'])), end=' & ')"
   ]
  },
  {
   "cell_type": "code",
   "execution_count": 21,
   "id": "21e4db54",
   "metadata": {},
   "outputs": [
    {
     "name": "stdout",
     "output_type": "stream",
     "text": [
      "0 & 1 & 3 & 5 & 6 & 7 & 8 & 9 & 15 & 20\n"
     ]
    }
   ],
   "source": [
    "print(' & '.join(fixed))"
   ]
  },
  {
   "cell_type": "code",
   "execution_count": 22,
   "id": "13ea1f9d",
   "metadata": {},
   "outputs": [
    {
     "name": "stdout",
     "output_type": "stream",
     "text": [
      "$0.97\\times$ & $1.27\\times$ & $1.51\\times$ & $1.54\\times$ & $1.71\\times$ & $1.56\\times$ & $1.83\\times$ & $2.08\\times$ & $2.75\\times$ & $2.90\\times$ & "
     ]
    }
   ],
   "source": [
    "for injections in fixed:\n",
    "    print('$%.2f\\\\times$' % (np.mean(ratios[injections]['post']['News']) / np.mean(ratios[injections]['pre']['News'])), end=' & ')"
   ]
  },
  {
   "cell_type": "code",
   "execution_count": 23,
   "id": "5ea60bcf",
   "metadata": {
    "scrolled": true
   },
   "outputs": [
    {
     "name": "stdout",
     "output_type": "stream",
     "text": [
      "$1.02\\times$ & $1.13\\times$ & $1.20\\times$ & $1.21\\times$ & $1.20\\times$ & $1.26\\times$ & $1.18\\times$ & $1.22\\times$ & $4.55\\times$ & $1.51\\times$ & "
     ]
    }
   ],
   "source": [
    "for injections in fixed:\n",
    "    print('$%.2f\\\\times$' % (np.mean(ratios[injections]['post']['Political non-news']) / np.mean(ratios[injections]['pre']['Political non-news'])), end=' & ')"
   ]
  },
  {
   "cell_type": "code",
   "execution_count": null,
   "id": "50d07a6a",
   "metadata": {},
   "outputs": [],
   "source": []
  }
 ],
 "metadata": {
  "kernelspec": {
   "display_name": "Python 3 (ipykernel)",
   "language": "python",
   "name": "python3"
  },
  "language_info": {
   "codemirror_mode": {
    "name": "ipython",
    "version": 3
   },
   "file_extension": ".py",
   "mimetype": "text/x-python",
   "name": "python",
   "nbconvert_exporter": "python",
   "pygments_lexer": "ipython3",
   "version": "3.10.4"
  }
 },
 "nbformat": 4,
 "nbformat_minor": 5
}
