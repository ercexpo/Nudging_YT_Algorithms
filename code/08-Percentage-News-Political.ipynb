{
 "cells": [
  {
   "cell_type": "code",
   "execution_count": null,
   "id": "9a6c9c8d",
   "metadata": {},
   "outputs": [],
   "source": [
    "import pandas as pd\n",
    "from util import fetch_metadata_using_api\n",
    "import re\n",
    "import json\n",
    "from parser import get_participants\n",
    "from collections import Counter\n",
    "import matplotlib.pyplot as plt\n",
    "from urllib.parse import unquote\n",
    "import numpy as np\n",
    "import scienceplots"
   ]
  },
  {
   "cell_type": "code",
   "execution_count": null,
   "id": "cedaf347",
   "metadata": {},
   "outputs": [],
   "source": [
    "tex_fonts = {\n",
    "    \"text.usetex\": True,\n",
    "}\n",
    "\n",
    "plt.style.use(['science', 'nature', 'grid'])\n",
    "plt.rcParams.update(tex_fonts)\n",
    "figw, figh = plt.rcParams['figure.figsize']"
   ]
  },
  {
   "cell_type": "code",
   "execution_count": null,
   "id": "c71a4daa",
   "metadata": {},
   "outputs": [],
   "source": [
    "survey = pd.read_spss('data/AMST0001_OUTPUT_w1andw2.sav')"
   ]
  },
  {
   "cell_type": "code",
   "execution_count": null,
   "id": "c7fc4566",
   "metadata": {},
   "outputs": [],
   "source": [
    "visa_ids = set(pd.read_csv('data/visas.csv')['visaId'])"
   ]
  },
  {
   "cell_type": "code",
   "execution_count": null,
   "id": "2a47932d",
   "metadata": {},
   "outputs": [],
   "source": [
    "news_ids = set(pd.read_csv('data/final_news_ids.csv')['channel_id'])\n",
    "len(news_ids)"
   ]
  },
  {
   "cell_type": "code",
   "execution_count": null,
   "id": "58f63bd4",
   "metadata": {},
   "outputs": [],
   "source": [
    "pol_clf = json.load(open('cache/political_classifications.json'))\n",
    "participants = pd.read_parquet('data/participants.parquet')\n",
    "finished_participants = set(participants.dropna(subset='finishTime')['userId'])"
   ]
  },
  {
   "cell_type": "code",
   "execution_count": null,
   "id": "edb72340-bd3f-407e-a134-5253fc362813",
   "metadata": {},
   "outputs": [],
   "source": [
    "def jsonify(js):\n",
    "    if js is None:\n",
    "        return None\n",
    "    return json.loads(js)"
   ]
  },
  {
   "cell_type": "code",
   "execution_count": null,
   "id": "dfe4cfd0",
   "metadata": {},
   "outputs": [],
   "source": [
    "full_log = pd.read_parquet('data/logs.parquet')\n",
    "full_log = full_log[full_log['visaId'].isin(visa_ids)]\n",
    "full_log['homepage_content'] = full_log['homepage_content'].map(jsonify)\n",
    "full_log['upnext_content'] = full_log['upnext_content'].map(jsonify)"
   ]
  },
  {
   "cell_type": "code",
   "execution_count": null,
   "id": "41b96d24",
   "metadata": {},
   "outputs": [],
   "source": [
    "metadata = fetch_metadata_using_api([])"
   ]
  },
  {
   "cell_type": "code",
   "execution_count": null,
   "id": "ebddc69f",
   "metadata": {},
   "outputs": [],
   "source": [
    "def extract_video_id(url):\n",
    "    try:\n",
    "        vId = re.search(r'v=(.{11})', url).group(1)\n",
    "        if vId is not None and vId != '' and len(vId) == 11:\n",
    "            return vId\n",
    "    except: pass\n",
    "    return None\n",
    "\n",
    "def extract_video_ids(urls):\n",
    "    videoIds = []\n",
    "    for url in urls:\n",
    "        vId = extract_video_id(url)\n",
    "        if vId is not None:\n",
    "            videoIds.append(vId)            \n",
    "    return videoIds\n",
    "    \n",
    "def get_watched_videos(logs):\n",
    "    urls = []\n",
    "    for url in logs['url']:\n",
    "        urls.append(url)\n",
    "    return extract_video_ids(urls)\n",
    "\n",
    "def get_homepage_videos(logs):\n",
    "    urls = []\n",
    "    for hp in logs['homepage_content'].dropna():\n",
    "        for url in hp:\n",
    "            urls.append(url)\n",
    "    return extract_video_ids(urls)\n",
    "\n",
    "def get_upnext_videos(logs):\n",
    "    urls = []\n",
    "    for hp in logs['upnext_content'].dropna():\n",
    "        for url in hp:\n",
    "            urls.append(url)\n",
    "    return extract_video_ids(urls)    "
   ]
  },
  {
   "cell_type": "code",
   "execution_count": null,
   "id": "a2126a89",
   "metadata": {},
   "outputs": [],
   "source": [
    "def is_news(vId):\n",
    "    return metadata.get(vId, {}).get('channel_id', None) in news_ids\n",
    "\n",
    "def is_political(vId):\n",
    "    return pol_clf.get(vId, False)"
   ]
  },
  {
   "cell_type": "code",
   "execution_count": null,
   "id": "6659553a",
   "metadata": {},
   "outputs": [],
   "source": [
    "CLASSIFICATIONS = ['News', 'Political non-news', 'Other']\n",
    "\n",
    "def classify_video(vId):\n",
    "    if is_news(vId):\n",
    "        return 'News'\n",
    "    if not is_news(vId) and is_political(vId):\n",
    "        return 'Political non-news'\n",
    "    if not is_news(vId) and not is_political(vId):\n",
    "        return 'Other'"
   ]
  },
  {
   "cell_type": "code",
   "execution_count": null,
   "id": "6ff8fb8d",
   "metadata": {},
   "outputs": [],
   "source": [
    "videos = get_watched_videos(full_log) + get_homepage_videos(full_log) + get_upnext_videos(full_log)"
   ]
  },
  {
   "cell_type": "code",
   "execution_count": null,
   "id": "dc711173",
   "metadata": {},
   "outputs": [],
   "source": [
    "news_videos = [v for v in videos if classify_video(v) == 'News']\n",
    "pnn_videos = [v for v in videos if classify_video(v) == 'Political non-news']"
   ]
  },
  {
   "cell_type": "code",
   "execution_count": null,
   "id": "be1b83fd",
   "metadata": {},
   "outputs": [],
   "source": [
    "ideo = pd.read_csv('data/video_ideology_scores.csv')\n",
    "ideology_scores = {row.video_id: row.score for row in ideo.itertuples()}"
   ]
  },
  {
   "cell_type": "code",
   "execution_count": null,
   "id": "651c4b49",
   "metadata": {},
   "outputs": [],
   "source": [
    "len([i for i in news_videos if i in ideology_scores]) / len(news_videos)"
   ]
  },
  {
   "cell_type": "code",
   "execution_count": null,
   "id": "857a0e21",
   "metadata": {},
   "outputs": [],
   "source": [
    "len([i for i in pnn_videos if i in ideology_scores]) / len(pnn_videos)"
   ]
  },
  {
   "cell_type": "markdown",
   "id": "0bce3dd6",
   "metadata": {},
   "source": [
    "# Changes to the User"
   ]
  },
  {
   "cell_type": "code",
   "execution_count": null,
   "id": "e7ec3e5b",
   "metadata": {},
   "outputs": [],
   "source": [
    "partial_log = full_log"
   ]
  },
  {
   "cell_type": "code",
   "execution_count": null,
   "id": "0b3f1f93",
   "metadata": {},
   "outputs": [],
   "source": [
    "interventions = ['background', 'banner', 'control']\n",
    "final_names = ['Algorithmic nudge', 'User nudge', 'Control']"
   ]
  },
  {
   "cell_type": "code",
   "execution_count": null,
   "id": "b314bbf1",
   "metadata": {},
   "outputs": [],
   "source": [
    "perc = {}"
   ]
  },
  {
   "cell_type": "code",
   "execution_count": null,
   "id": "345fa953",
   "metadata": {},
   "outputs": [],
   "source": [
    "fig, axes = plt.subplots(1, 3, dpi=300, figsize=(figw * 2.5, figh*0.75))\n",
    "caption = 'abcdef'\n",
    "for intervention, ax, cap in zip(interventions, axes, caption):\n",
    "\n",
    "    x = []\n",
    "    y = {'recommended': [], 'watched': []}\n",
    "\n",
    "    logs = partial_log\n",
    "    logs = logs[logs['intervention'] == intervention]\n",
    "    logs = logs[~logs['is_injected']]\n",
    "\n",
    "    for day in range(28): \n",
    "        watched = get_watched_videos(logs[logs['day'] == day])\n",
    "        recommended = get_homepage_videos(logs[logs['day'] == day])\n",
    "        recommended.extend(get_upnext_videos(logs[logs['day'] == day]))\n",
    "        \n",
    "        clf_watched = [classify_video(vId) for vId in watched]\n",
    "        clf_recommended = [classify_video(vId) for vId in recommended]\n",
    "        \n",
    "        counts_watched = Counter(clf_watched)\n",
    "        counts_recommended = Counter(clf_recommended)\n",
    "                \n",
    "        y['watched'].append(counts_watched.get('News', 0) / sum(counts_watched.values()) * 100)\n",
    "        y['recommended'].append(counts_recommended.get('News', 0) / sum(counts_recommended.values()) * 100)\n",
    "\n",
    "        x.append(day)\n",
    "\n",
    "    ax.plot(x, y['watched'], label='Watched', marker='.')\n",
    "    ax.plot(x, y['recommended'], label='Recommended', marker='.')\n",
    "    \n",
    "    ax.set_xticks([0, 7, 14, 21, 28])\n",
    "    ax.set_xticklabels(['', 'W1', 'W2', 'W3', ''])\n",
    "    ax.set_ylim((0, 25))\n",
    "    ax.set_xlabel('Day')\n",
    "    # ax.set_xlabel('Day\\n\\n\\\\textbf{%s)} %s' % (cap, final_names[interventions.index(intervention)]))\n",
    "    ax.legend(fontsize=6)\n",
    "    ax.set_ylabel('Percentage')\n",
    "    ax.annotate(cap.upper(), (-0.125, 1.05), annotation_clip=False, fontsize=10, xycoords='axes fraction')\n",
    "    \n",
    "    perc[intervention] = {}\n",
    "    perc[intervention]['watched'] = y['watched']\n",
    "    perc[intervention]['recommended'] = y['recommended']\n",
    "    \n",
    "fig.tight_layout()\n",
    "fig.savefig('figures/percentage-news.pdf', transparent = True, bbox_inches = 'tight', pad_inches = 0.1, dpi=300)"
   ]
  },
  {
   "cell_type": "code",
   "execution_count": null,
   "id": "32a33256",
   "metadata": {},
   "outputs": [],
   "source": [
    "perc = {}"
   ]
  },
  {
   "cell_type": "code",
   "execution_count": null,
   "id": "fe8e9daf",
   "metadata": {},
   "outputs": [],
   "source": [
    "fig, axes = plt.subplots(1, 3, dpi=300, figsize=(8, 2))\n",
    "caption = 'abc'\n",
    "for intervention, ax, cap in zip(interventions, axes, caption):\n",
    "\n",
    "    x = []\n",
    "    y = {'recommended': [], 'watched': []}\n",
    "\n",
    "    logs = partial_log\n",
    "    logs = logs[logs['intervention'] == intervention]\n",
    "    logs = logs[~logs['is_injected']]\n",
    "\n",
    "    for day in range(28): \n",
    "        watched = get_watched_videos(logs[logs['day'] == day])\n",
    "        recommended = get_homepage_videos(logs[logs['day'] == day])\n",
    "        recommended.extend(get_upnext_videos(logs[logs['day'] == day]))\n",
    "        \n",
    "        clf_watched = [classify_video(vId) for vId in watched]\n",
    "        clf_recommended = [classify_video(vId) for vId in recommended]\n",
    "        \n",
    "        counts_watched = Counter(clf_watched)\n",
    "        counts_recommended = Counter(clf_recommended)\n",
    "        \n",
    "        \n",
    "        y['watched'].append(counts_watched.get('Political non-news', 0) / sum(counts_watched.values()) * 100)\n",
    "        y['recommended'].append(counts_recommended.get('Political non-news', 0) / sum(counts_recommended.values()) * 100)\n",
    "\n",
    "        x.append(day)\n",
    "\n",
    "    ax.plot(x, y['watched'], label='Watched', marker='.')\n",
    "    ax.plot(x, y['recommended'], label='Recommended', marker='.')\n",
    "    \n",
    "    ax.set_xticks([0, 7, 14, 21, 28])\n",
    "    ax.set_xticklabels(['', 'W1', 'W2', 'W3', ''])\n",
    "    ax.set_ylim((0, 25))\n",
    "    # ax.set_xlabel('Day\\n\\n\\\\textbf{%s)} %s' % (cap, final_names[interventions.index(intervention)]))\n",
    "    ax.set_xlabel('Day')\n",
    "    ax.legend(fontsize=6)\n",
    "    ax.set_ylabel('Percentage')\n",
    "    ax.annotate(cap.upper(), (-0.125, 1.05), annotation_clip=False, fontsize=10, xycoords='axes fraction')\n",
    "    \n",
    "    perc[intervention] = {}\n",
    "    perc[intervention]['watched'] = y['watched']\n",
    "    perc[intervention]['recommended'] = y['recommended']\n",
    "    \n",
    "fig.tight_layout()\n",
    "fig.savefig('figures/percentage-pol-non-news.pdf', transparent = True, bbox_inches = 'tight', pad_inches = 0.1, dpi=300)"
   ]
  },
  {
   "cell_type": "code",
   "execution_count": null,
   "id": "d6d9fddd",
   "metadata": {},
   "outputs": [],
   "source": [
    "for day in range(28):\n",
    "    a = perc['background']\n",
    "    b = perc['banner']\n",
    "    c = perc['control']\n",
    "    print('%s & %.2f\\\\%% & %.2f\\\\%% & %.2f\\\\%% & %.2f\\\\%% & %.2f\\\\%% & %.2f\\\\%% \\\\\\\\' % (day+1, a['recommended'][day], a['watched'][day], b['recommended'][day], b['watched'][day], c['recommended'][day], c['watched'][day]))"
   ]
  },
  {
   "cell_type": "code",
   "execution_count": null,
   "id": "fba60ab1",
   "metadata": {},
   "outputs": [],
   "source": []
  }
 ],
 "metadata": {
  "kernelspec": {
   "display_name": "Python 3 (ipykernel)",
   "language": "python",
   "name": "python3"
  },
  "language_info": {
   "codemirror_mode": {
    "name": "ipython",
    "version": 3
   },
   "file_extension": ".py",
   "mimetype": "text/x-python",
   "name": "python",
   "nbconvert_exporter": "python",
   "pygments_lexer": "ipython3",
   "version": "3.12.5"
  }
 },
 "nbformat": 4,
 "nbformat_minor": 5
}
